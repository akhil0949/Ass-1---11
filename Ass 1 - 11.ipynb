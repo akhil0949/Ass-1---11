{
  "metadata": {
    "language_info": {
      "name": ""
    },
    "kernelspec": {
      "name": "",
      "display_name": ""
    }
  },
  "nbformat_minor": 4,
  "nbformat": 4,
  "cells": [
    {
      "cell_type": "code",
      "source": "Q1. Create an assert statement that throws an AssertionError if the variable spam is a negative integer.",
      "metadata": {},
      "execution_count": null,
      "outputs": []
    },
    {
      "cell_type": "code",
      "source": "spam = int(input('Enter the value of spam :  '))\nif spam < 0:\n    raise Exception('The number should be positive')",
      "metadata": {},
      "execution_count": null,
      "outputs": []
    },
    {
      "cell_type": "code",
      "source": "spam = int(input('Enter the value of spam :  '))\nassert spam>= 0,'only positive numbers are allowed'\nprint('spam is positive')",
      "metadata": {},
      "execution_count": null,
      "outputs": []
    },
    {
      "cell_type": "code",
      "source": "1. the an assert statement that triggers an AssertionError if the variables eggs and bacon contain strings that are the same as each other, even if their cases are different (that is, 'hello'; and 'hello'; are considered the same, and 'goodbye'; and 'GOODbye'; are also considered the same).\n\nAns:\n\neggs = 'hello'\nbacon = 'HEllo'\nassert eggs==bacon, 'both strings are not equal'\nprint('strings are equal')",
      "metadata": {},
      "execution_count": null,
      "outputs": []
    },
    {
      "cell_type": "code",
      "source": "Q3. Create an assert statement that throws an AssertionError every time.\n\nAns:\n\nassert False, 'this assertion always triggers'",
      "metadata": {},
      "execution_count": null,
      "outputs": []
    },
    {
      "cell_type": "code",
      "source": "Q4. What are the two lines that must be present in your software in order to call logging.debug()?\n\nAns: import logging\n\n logging.basicConfig(level=logging.DEBUG, format=' %(asctime)s -  %(levelname)s - %message)s')\n \nQ5. What are the two lines that your program must have in order to have logging.debug() send a logging message to a file named programLog.txt?\n\nAns: import logging\n\nlogging.basicConfig(filename='programLog.txt', level=logging.DEBUG, format=' %(asctime)s - %(levelname)s - %(message)s')\n\nQ6. What are the five levels of logging?\n\nAns: the five levels of logging are\n\n 1. Debug\n\n 2. INFO\n\n 3. Warning\n\n 4. Error\n\n 5. Critical    \nWhat line of code would you add to your software to disable all logging messages?\nAns: logging.disable(logging.critical)\n\n8.Why is using logging messages better than using print() to display the same message?\n\nAns: 1. you can create logging messages\n\n 2. logging messages creates timestamp\n\n  3. logging can be disabled without removing the logging function\n\n  4. we can selectively disable lower level logging messages\nQ9. What are the differences between the Step Over, Step In, and Step Out buttons in the debugger?\n\nAns: step over : this instruction will step over the current line of the code and take you to the next line. step into the method shows what happened inside it, this option can be used when you are not sure the method is returning correct result. step out: step out of the current method and takes you to the caller method\n\nQ10.After you click Continue, when will the debugger stop ?\n\nAns: the debugger stops at the end of the program or at the break point\n\nQ11. What is the concept of a breakpoint?\n\nAns: after breakpoint setting on a line of the code causes the debugger to pause when program excecution reaches this line",
      "metadata": {},
      "execution_count": null,
      "outputs": []
    },
    {
      "cell_type": "code",
      "source": "Q4. What are the two lines that must be present in your software in order to call logging.debug()?\n\nAns: import logging\n\n logging.basicConfig(level=logging.DEBUG, format=' %(asctime)s -  %(levelname)s - %message)s')",
      "metadata": {},
      "execution_count": null,
      "outputs": []
    },
    {
      "cell_type": "code",
      "source": "Q5. What are the two lines that your program must have in order to have logging.debug() send a logging message to a file named programLog.txt?\n\nAns: import logging\n\nlogging.basicConfig(filename='programLog.txt', level=logging.DEBUG, format=' %(asctime)s - %(levelname)s - %(message)s')",
      "metadata": {},
      "execution_count": null,
      "outputs": []
    },
    {
      "cell_type": "code",
      "source": "Q6. What are the five levels of logging?\n\nAns: the five levels of logging are\n\n 1. Debug\n\n 2. INFO\n\n 3. Warning\n\n 4. Error\n\n 5. Critical  ",
      "metadata": {},
      "execution_count": null,
      "outputs": []
    },
    {
      "cell_type": "code",
      "source": "7. What line of code would you add to your software to disable all logging messages?\nAns: logging.disable(logging.critical)\n",
      "metadata": {},
      "execution_count": null,
      "outputs": []
    },
    {
      "cell_type": "code",
      "source": "8.Why is using logging messages better than using print() to display the same message?\n\nAns: 1. you can create logging messages\n  2. logging messages creates timestamp\n\n  3. logging can be disabled without removing the logging function\n\n  4. we can selectively disable lower level logging messages\n",
      "metadata": {},
      "execution_count": null,
      "outputs": []
    },
    {
      "cell_type": "code",
      "source": "Q9. What are the differences between the Step Over, Step In, and Step Out buttons in the debugger?\n\nAns: step over : this instruction will step over the current line of the code and take you to the next line. step into the method shows what happened inside it, this option can be used when you are not sure the method is returning correct result. step out: step out of the current method and takes you to the caller method",
      "metadata": {},
      "execution_count": null,
      "outputs": []
    },
    {
      "cell_type": "code",
      "source": "Q10.After you click Continue, when will the debugger stop ?\n\nAns: the debugger stops at the end of the program or at the break point\n",
      "metadata": {},
      "execution_count": null,
      "outputs": []
    },
    {
      "cell_type": "code",
      "source": "",
      "metadata": {},
      "execution_count": null,
      "outputs": []
    }
  ]
}